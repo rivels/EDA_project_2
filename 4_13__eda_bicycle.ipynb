{
 "cells": [
  {
   "cell_type": "code",
   "execution_count": null,
   "id": "98e04a5f",
   "metadata": {},
   "outputs": [],
   "source": [
    "import pandas as pd\n",
    "import numpy as np\n",
    "from scipy.stats import mode\n",
    "import missingno as msno\n",
    "import matplotlib as mpl\n",
    "import matplotlib.pyplot as plt\n",
    "import seaborn as sns\n",
    "import matplotlib.ticker as ticker"
   ]
  },
  {
   "cell_type": "code",
   "execution_count": null,
   "id": "d948c01c",
   "metadata": {
    "scrolled": true
   },
   "outputs": [],
   "source": [
    "!ls ./data"
   ]
  },
  {
   "cell_type": "code",
   "execution_count": null,
   "id": "e67313cc",
   "metadata": {},
   "outputs": [],
   "source": [
    "file_list_2019 = ['서울특별시 공공자전거 대여정보_201901.csv','서울특별시 공공자전거 대여정보_201902.csv',\n",
    "'서울특별시 공공자전거 대여정보_201903.csv',\n",
    "'서울특별시 공공자전거 대여정보_201904.csv',\n",
    "'서울특별시 공공자전거 대여정보_201905.csv',\n",
    "'서울특별시 공공자전거 대여정보_201906_1.csv',\n",
    "'서울특별시 공공자전거 대여정보_201906_2.csv',\n",
    "'서울특별시 공공자전거 대여정보_201906_3.csv',\n",
    "'서울특별시 공공자전거 대여정보_201907_1.csv',\n",
    "'서울특별시 공공자전거 대여정보_201907_2.csv',\n",
    "'서울특별시 공공자전거 대여정보_201907_3.csv',\n",
    "'서울특별시 공공자전거 대여정보_201908_1.csv',\n",
    "'서울특별시 공공자전거 대여정보_201908_2.csv',\n",
    "'서울특별시 공공자전거 대여정보_201908_3.csv',\n",
    "'서울특별시 공공자전거 대여정보_201909_1.csv',\n",
    "'서울특별시 공공자전거 대여정보_201909_2.csv',\n",
    "'서울특별시 공공자전거 대여정보_201909_3.csv',\n",
    "'서울특별시 공공자전거 대여정보_201910_1.csv',\n",
    "'서울특별시 공공자전거 대여정보_201910_2.csv',\n",
    "'서울특별시 공공자전거 대여정보_201910_3.csv',\n",
    "'서울특별시 공공자전거 대여정보_201911_1.csv',\n",
    "'서울특별시 공공자전거 대여정보_201911_2.csv',\n",
    "'서울특별시 공공자전거 대여정보_201912.csv']\n",
    "T.sort()\n",
    "totla_files_2019  = []\n",
    "for i in file_list_2019:\n",
    "    totla_files_2019.append(pd.read_csv('./data/{}'.format(i)))"
   ]
  },
  {
   "cell_type": "code",
   "execution_count": null,
   "id": "24846ec9",
   "metadata": {},
   "outputs": [],
   "source": [
    "bike_2019_6 = pd.concat([totla_files_2019[5],totla_files_2019[6],totla_files_2019[7]])\n",
    "bike_2019_7 = pd.concat([totla_files_2019[8],totla_files_2019[9],totla_files_2019[10]])\n",
    "bike_2019_8 = pd.concat([totla_files_2019[11],totla_files_2019[12],totla_files_2019[13]])\n",
    "bike_2019_9 = pd.concat([totla_files_2019[14],totla_files_2019[15],totla_files_2019[16]])\n",
    "bike_2019_10 = pd.concat([totla_files_2019[17],totla_files_2019[18],totla_files_2019[19]])\n",
    "bike_2019_11 = pd.concat([totla_files_2019[20],totla_files_2019[21]])"
   ]
  },
  {
   "cell_type": "code",
   "execution_count": null,
   "id": "cf06631d",
   "metadata": {},
   "outputs": [],
   "source": [
    "bike_2019_6.to_csv(\"서울특별시 공공자전거 대여정보_2019.6.csv\",mode=\"w\",index=False)\n",
    "bike_2019_7.to_csv(\"서울특별시 공공자전거 대여정보_2019.7.csv\",mode=\"w\",index=False)\n",
    "bike_2019_8.to_csv(\"서울특별시 공공자전거 대여정보_2019.8.csv\",mode=\"w\",index=False)\n",
    "bike_2019_9.to_csv(\"서울특별시 공공자전거 대여정보_2019.9.csv\",mode=\"w\",index=False)\n",
    "bike_2019_10.to_csv(\"서울특별시 공공자전거 대여정보_2019.10.csv\",mode=\"w\",index=False)\n",
    "bike_2019_11.to_csv(\"서울특별시 공공자전거 대여정보_2019.11.csv\",mode=\"w\",index=False)"
   ]
  },
  {
   "cell_type": "code",
   "execution_count": null,
   "id": "183b0db4",
   "metadata": {},
   "outputs": [],
   "source": [
    "file_list_2019 = [\n",
    "'공공자전거 대여이력 정보_2020.06.csv',\n",
    "'공공자전거 대여이력 정보_2020.07.csv',\n",
    "'공공자전거 대여이력 정보_2020.08.csv',\n",
    "'공공자전거 대여이력 정보_2020.09.csv',\n",
    "'공공자전거 대여이력 정보_2020.10.csv',\n",
    "'공공자전거 대여이력 정보_2020.11.csv',\n",
    "'공공자전거 대여이력 정보_2020.12.csv',\n",
    "'공공자전거 대여이력 정보_2020.01.csv',\n",
    "'공공자전거 대여이력 정보_2020.02.csv',\n",
    "'공공자전거 대여이력 정보_2020.03.csv',\n",
    "'공공자전거 대여이력 정보_2020.04.csv',\n",
    "'공공자전거 대여이력 정보_2020.05.csv']\n",
    "file_list_2019.sort()\n",
    "\n",
    "totla_files_2019  = []\n",
    "for i in file_list_2019:\n",
    "    totla_files_2019.append(pd.read_csv('./data/{}'.format(i)))"
   ]
  },
  {
   "cell_type": "code",
   "execution_count": null,
   "id": "f07da871",
   "metadata": {},
   "outputs": [],
   "source": [
    "# 파일 불러오기\n",
    "## 19년 7월 데이터 불러오기 & concat\n",
    "sb1907_1 = pd.read_csv('./data/seoul_bike_201907_1.csv',encoding='cp949')\n",
    "sb1907_2 = pd.read_csv('./data/seoul_bike_201907_2.csv',encoding='cp949')\n",
    "sb1907_3 = pd.read_csv('./data/seoul_bike_201907_3.csv',encoding='cp949')\n",
    "sb1907 = pd.concat([sb1907_1,sb1907_2,sb1907_3])\n",
    "\n",
    "## 19년 8월 데이터 불러오기 & concat\n",
    "sb1908_1 = pd.read_csv('./data/seoul_bike_201908_1.csv',encoding='cp949')\n",
    "sb1908_2 = pd.read_csv('./data/seoul_bike_201908_2.csv',encoding='cp949')\n",
    "sb1908_3 = pd.read_csv('./data/seoul_bike_201908_3.csv',encoding='cp949')\n",
    "sb1908 = pd.concat([sb1908_1,sb1908_2,sb1908_3])"
   ]
  },
  {
   "cell_type": "code",
   "execution_count": null,
   "id": "4b34b683",
   "metadata": {},
   "outputs": [],
   "source": [
    "sb2078 = pd.read_csv('./data/seoul_bike_2020.07_08.csv',encoding='cp949')"
   ]
  },
  {
   "cell_type": "code",
   "execution_count": null,
   "id": "8bc1f81c",
   "metadata": {},
   "outputs": [],
   "source": [
    "# 자전거번호, 대여일시, 대여 대여소번호,대여 대여소명, 반납일시, 반납대여소번호, 반납대여소 이름, 이용시간, 이용거리\n",
    "# csv 파일의 컬럼을 사용할 컬럼만 선택하고 나머지는 drop\n",
    "def using_change(df):\n",
    "    # 사용컬럼만 남기고 나머지 drop\n",
    "    df = df.drop(['대여거치대','반납거치대'], axis=1)\n",
    "    df.columns=['bicycle_type','rental_dt','rental_station_num ','rental_station_name','return_dt','return_station_num','return_station_name','using_time','using_distance']\n",
    "    \n",
    "    \n",
    "    # 마포구 내의 station_number에 해당하는지 여부 검색\n",
    "    mapo = [101, 102, 103, 104, 105, 106, 107, 108, 109, 111, 112, 113, 114, 118, 119, 120, 121, 122, 124, 125, 126, 127, 129, 130, 136, 142, 143, 144, 145, 146, 147, 148, 150, 151, 152, 153, 154, 155, 156, 157, 181, 182, 183, 184, 185, 186, 199, 400, 401, 402, 403, 405, 406, 407, 408, 409, 410, 411, 412, 413, 414, 415, 416, 417, 418, 419, 420, 421, 422, 424, 425, 426, 427, 432, 436, 437, 438, 439, 440, 487, 489, 490, 491, 492, 493, 494, 495, 497, 498, 3002, 3003, 3005, 3006, 3007, 3008, 3009, 3010, 3011, 4202]\n",
    "    df = df[df['rental_station_num '].isin(mapo)]\n",
    "    \n",
    "    \n",
    "    # rent_dt & return_dt 를 split으로 날짜와 시간을 분리\n",
    "    rent_D = df['rental_dt'].str.split(' ').str[0]\n",
    "    rent_T = df['rental_dt'].str.split(' ').str[1] \n",
    "    return_D = df['return_dt'].str.split(' ').str[0]\n",
    "    return_T = df['return_dt'].str.split(' ').str[1]\n",
    "    \n",
    "    \n",
    "    # bicycle의 타입을 알기 위해 split으로 분리 후 넘버만 저장\n",
    "    bicycle_num = df['bicycle_type'].str.split('-').str[1]\n",
    "    \n",
    "    \n",
    "    # 분리된 날짜와 시간 새로운 컬럼으로 삽입\n",
    "    df['rental_day'] = rent_D\n",
    "    df['rental_time'] = rent_T\n",
    "    df['return_day'] = return_D\n",
    "    df['return_time'] = return_T\n",
    "    df['bicycle_type_num'] = bicycle_num\n",
    "    \n",
    "    \n",
    "    # 나눠진 기존의 컬럼 drop\n",
    "    df = df.drop('rental_dt',axis=1)\n",
    "    df = df.drop('return_dt',axis=1)\n",
    "    df = df.drop('bicycle_type',axis=1)\n",
    "    \n",
    "    \n",
    "    # 따릉이 번호에 따른 타입 분류\n",
    "    tmp = df['bicycle_type_num'].astype(int)\n",
    "    df['bicycle_type_num'] = tmp\n",
    "    basic_bicycle = df[df['bicycle_type_num'].isin(range(0,27001))]\n",
    "    basic_bicycle['bicycle_type_num'] = 1\n",
    "    qr_bicycle = df[df['bicycle_type_num'].isin(range(30000,80001))]\n",
    "    qr_bicycle['bicycle_type_num'] = 2\n",
    "    kid_bicycle = df[df['bicycle_type_num'].isin(range(80001,200000))]\n",
    "    kid_bicycle['bicycle_type_num'] = 3\n",
    "    df = pd.concat([basic_bicycle,qr_bicycle,kid_bicycle])\n",
    "    \n",
    "    # 빌린 날짜순 정렬\n",
    "    df = df.sort_values(by='rental_day')\n",
    "    \n",
    "    # index reset\n",
    "    df.reset_index(drop=True,inplace=True)\n",
    "    \n",
    "    return df"
   ]
  },
  {
   "cell_type": "code",
   "execution_count": null,
   "id": "7bc55349",
   "metadata": {},
   "outputs": [],
   "source": [
    "# 전처리 함수 적용하기\n",
    "sb1907 = using_change(sb1907)\n",
    "sb1908 = using_change(sb1908)\n",
    "sb2078 = using_change(sb2078)"
   ]
  },
  {
   "cell_type": "code",
   "execution_count": null,
   "id": "21410335",
   "metadata": {},
   "outputs": [],
   "source": [
    "# 7,8월 나누기 및 csv 로 저장하기\n",
    "sb2078 = sb2078.sort_values(by=['rental_day','rental_time'])\n",
    "sb2007 = sb2078[:85286]\n",
    "# sb2007.to_csv(\"sb2007.csv\",mode=\"w\",index=False)\n",
    "sb2008 = sb2078[85286:]\n",
    "# sb2008.to_csv(\"sb2008.csv\",mode=\"w\")"
   ]
  },
  {
   "cell_type": "code",
   "execution_count": null,
   "id": "2d3f2fe4",
   "metadata": {},
   "outputs": [],
   "source": [
    "sb1907"
   ]
  },
  {
   "cell_type": "code",
   "execution_count": null,
   "id": "c79fbf84",
   "metadata": {},
   "outputs": [],
   "source": [
    "sb1908"
   ]
  },
  {
   "cell_type": "code",
   "execution_count": null,
   "id": "5b53d79b",
   "metadata": {},
   "outputs": [],
   "source": [
    "sb2007"
   ]
  },
  {
   "cell_type": "code",
   "execution_count": null,
   "id": "0949490b",
   "metadata": {},
   "outputs": [],
   "source": [
    "sb2008"
   ]
  },
  {
   "cell_type": "code",
   "execution_count": null,
   "id": "d91fde35",
   "metadata": {},
   "outputs": [],
   "source": [
    "# csv로 저장하기\n",
    "# sb1907.to_csv(\"./data/sb1907.csv\",mode=\"w\")\n",
    "# sb1908.to_csv(\"./data/sb1908.csv\",mode=\"w\")"
   ]
  },
  {
   "cell_type": "markdown",
   "id": "e3e8f545",
   "metadata": {},
   "source": [
    "- 19년 7월 total :   2,082,611건 \n",
    "- 19년 8월 total :   2,028,698건\n",
    "- 20년 7,8월 total : 2,254,077건\n",
    "    - 19년 보다 20년도에 이용량이 절반 수준으로 감소했음."
   ]
  },
  {
   "cell_type": "code",
   "execution_count": null,
   "id": "7050aed1",
   "metadata": {},
   "outputs": [],
   "source": [
    "# 마포구 스테이션 리스트\n",
    "mapo = [101, 102, 103, 104, 105, 106, 107, 108, 109, 111, 112, 113, 114, 118, 119, 120, 121, 122, 124, 125, 126, 127, 129, 130, 136, 142, 143, 144, 145, 146, 147, 148, 150, 151, 152, 153, 154, 155, 156, 157, 181, 182, 183, 184, 185, 186, 199, 400, 401, 402, 403, 405, 406, 407, 408, 409, 410, 411, 412, 413, 414, 415, 416, 417, 418, 419, 420, 421, 422, 424, 425, 426, 427, 432, 436, 437, 438, 439, 440, 487, 489, 490, 491, 492, 493, 494, 495, 497, 498, 3002, 3003, 3005, 3006, 3007, 3008, 3009, 3010, 3011, 4202]"
   ]
  },
  {
   "cell_type": "markdown",
   "id": "60665bbd",
   "metadata": {},
   "source": [
    "   - 00001 ~ 10000 : 초기형 \n",
    "   - 10001 ~ 20000 : 후기형\n",
    "   - 20001 ~ 27000 : 개선형\n",
    "   - 30001 ~       : QR단말기(뉴따릉이)형\n",
    "   - 80001 ~       : 새싹따릉이 : 청소년, 어르신 등도 편리하게 이용할 수 있도록 만든 모델"
   ]
  },
  {
   "cell_type": "code",
   "execution_count": null,
   "id": "23447447",
   "metadata": {
    "scrolled": true
   },
   "outputs": [],
   "source": [
    "sb1907.groupby(sb1907['rental_day']).count()\n",
    "sb1908.groupby(sb1908['rental_day']).count()\n",
    "sb2007.groupby(sb2007['rental_day']).count()\n",
    "sb2008.groupby(sb2008['rental_day']).count()"
   ]
  },
  {
   "cell_type": "code",
   "execution_count": null,
   "id": "3c809c66",
   "metadata": {},
   "outputs": [],
   "source": [
    "plt.figure(figsize=(20, 10))\n",
    "plt.title('seoul_bike_2019-07',size=30)\n",
    "plt.plot(sb1907.groupby(sb1907['rental_day']).count())\n",
    "plt.xticks(rotation=90)\n",
    "plt.show()"
   ]
  },
  {
   "cell_type": "code",
   "execution_count": null,
   "id": "460b3754",
   "metadata": {},
   "outputs": [],
   "source": [
    "plt.figure(figsize=(20, 10))\n",
    "plt.title('seoul_bike_2019-08',size=30)\n",
    "plt.plot(sb1908.groupby(sb1908['rental_day']).count())\n",
    "plt.xticks(rotation=90)\n",
    "plt.show()"
   ]
  },
  {
   "cell_type": "code",
   "execution_count": null,
   "id": "a3932c77",
   "metadata": {
    "scrolled": false
   },
   "outputs": [],
   "source": [
    "plt.figure(figsize=(20, 10))\n",
    "plt.title('seoul_bike_2020-07',size=30)\n",
    "plt.plot(sb2007.groupby(sb2007['rental_day']).count())\n",
    "plt.xticks(rotation=90)\n",
    "plt.show()"
   ]
  },
  {
   "cell_type": "code",
   "execution_count": null,
   "id": "9a9e685a",
   "metadata": {},
   "outputs": [],
   "source": [
    "plt.figure(figsize=(20, 10))\n",
    "plt.title('seoul_bike_2020-08',size=30)\n",
    "plt.plot(sb2008.groupby(sb2008['rental_day']).count())\n",
    "plt.xticks(rotation=90)\n",
    "plt.show()"
   ]
  },
  {
   "cell_type": "code",
   "execution_count": null,
   "id": "6467c82a",
   "metadata": {},
   "outputs": [],
   "source": [
    "plt.figure(figsize=(20, 10))\n",
    "plt.title('seoul_bike_2020-08',size=30)\n",
    "\n",
    "plt.xticks(rotation=90)\n",
    "plt.show()"
   ]
  },
  {
   "cell_type": "code",
   "execution_count": null,
   "id": "daee1232",
   "metadata": {},
   "outputs": [],
   "source": [
    "sb2007"
   ]
  },
  {
   "cell_type": "code",
   "execution_count": null,
   "id": "b28c7fe2",
   "metadata": {},
   "outputs": [],
   "source": []
  }
 ],
 "metadata": {
  "kernelspec": {
   "display_name": "Python 3",
   "language": "python",
   "name": "python3"
  },
  "language_info": {
   "codemirror_mode": {
    "name": "ipython",
    "version": 3
   },
   "file_extension": ".py",
   "mimetype": "text/x-python",
   "name": "python",
   "nbconvert_exporter": "python",
   "pygments_lexer": "ipython3",
   "version": "3.7.10"
  }
 },
 "nbformat": 4,
 "nbformat_minor": 5
}
